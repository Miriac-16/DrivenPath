{
  "nbformat": 4,
  "nbformat_minor": 0,
  "metadata": {
    "colab": {
      "provenance": [],
      "gpuType": "T4",
      "toc_visible": true
    },
    "kernelspec": {
      "name": "python3",
      "display_name": "Python 3"
    },
    "language_info": {
      "name": "python"
    },
    "accelerator": "GPU"
  },
  "cells": [
    {
      "cell_type": "markdown",
      "source": [
        "# **Chapter 9: Distributed Computing**"
      ],
      "metadata": {
        "id": "SutYpW621Hqt"
      }
    },
    {
      "cell_type": "markdown",
      "source": [
        "This is Chapter / Sprint 9 that focuses on local development using PySpark to perform data exploration, cleaning, transformation, and analysis."
      ],
      "metadata": {
        "id": "yu6LmZNc89aT"
      }
    },
    {
      "cell_type": "markdown",
      "source": [
        "## Initialization"
      ],
      "metadata": {
        "id": "tLKV5cfm2YSW"
      }
    },
    {
      "cell_type": "markdown",
      "source": [
        "This section handles PySpark initialization, module import, and data ingestion."
      ],
      "metadata": {
        "id": "Vy1z1V0_96cu"
      }
    },
    {
      "cell_type": "markdown",
      "source": [
        "### Install PySpark"
      ],
      "metadata": {
        "id": "Z8d2xRHF1WPw"
      }
    },
    {
      "cell_type": "markdown",
      "source": [
        "Install necessary packages."
      ],
      "metadata": {
        "id": "wpVesTeY_hhQ"
      }
    },
    {
      "cell_type": "code",
      "execution_count": null,
      "metadata": {
        "id": "NyHakIdNxcyZ"
      },
      "outputs": [],
      "source": [
        "!pip install pyspark\n",
        "!pip install -U -q PyDrive\n",
        "!apt install openjdk-8-jdk-headless -qq"
      ]
    },
    {
      "cell_type": "markdown",
      "source": [
        "Set the environment variable for Java since Spark requires a JDK to run."
      ],
      "metadata": {
        "id": "aZiv7TS4_mMq"
      }
    },
    {
      "cell_type": "code",
      "source": [
        "import os\n",
        "os.environ[\"JAVA_HOME\"] = \"/usr/lib/jvm/java-8-openjdk-amd64\""
      ],
      "metadata": {
        "id": "tlvbpgWY-WIC"
      },
      "execution_count": 2,
      "outputs": []
    },
    {
      "cell_type": "markdown",
      "source": [
        "Import the core PySpark modules and functions that will be used."
      ],
      "metadata": {
        "id": "CLBA9PTt_p2D"
      }
    },
    {
      "cell_type": "code",
      "source": [
        "from pyspark.context import SparkContext\n",
        "from pyspark.sql import SparkSession\n",
        "from pyspark.sql.functions import col, expr, to_date, when, regexp_replace\n",
        "from pyspark.sql.types import IntegerType, DateType"
      ],
      "metadata": {
        "id": "FXd0YxIH-aBS"
      },
      "execution_count": 3,
      "outputs": []
    },
    {
      "cell_type": "markdown",
      "source": [
        "### Initialize PySpark Session"
      ],
      "metadata": {
        "id": "BRMrWvyK1a8W"
      }
    },
    {
      "cell_type": "markdown",
      "source": [
        "Initialize a PySpark Session with name *DrivenData Distributed Computing*."
      ],
      "metadata": {
        "id": "wdLHuk37_gB2"
      }
    },
    {
      "cell_type": "code",
      "source": [
        "sc = SparkContext.getOrCreate()\n",
        "spark = SparkSession.builder.appName(\n",
        "\t'DrivenData Distributed Computing').getOrCreate()"
      ],
      "metadata": {
        "id": "8ZwDfZca05us"
      },
      "execution_count": 4,
      "outputs": []
    },
    {
      "cell_type": "markdown",
      "source": [
        "### Import Data"
      ],
      "metadata": {
        "id": "uGY8DSJD1iZx"
      }
    },
    {
      "cell_type": "markdown",
      "source": [
        "Import the CSV file containing synthetic data. Here, the header option is used to specify column names."
      ],
      "metadata": {
        "id": "BZW_Td5j_qcR"
      }
    },
    {
      "cell_type": "code",
      "source": [
        "df_14 = spark.read.csv('batch_2024-09-14.csv', header=True, inferSchema=True)\n",
        "df_15 = spark.read.csv('batch_2024-09-15.csv', header=True, inferSchema=True)"
      ],
      "metadata": {
        "id": "LojK7sUO1siR"
      },
      "execution_count": 5,
      "outputs": []
    },
    {
      "cell_type": "markdown",
      "source": [
        "### Data Join"
      ],
      "metadata": {
        "id": "NSz9Bh_LKIFv"
      }
    },
    {
      "cell_type": "markdown",
      "source": [
        "Join the dataset from 14th of October with the dataset from 15th of October on *unique_id*."
      ],
      "metadata": {
        "id": "IrwugJiJKJto"
      }
    },
    {
      "cell_type": "code",
      "source": [
        "df = df_14.union(df_15)"
      ],
      "metadata": {
        "id": "gIHQBG-UKdoB"
      },
      "execution_count": 6,
      "outputs": []
    },
    {
      "cell_type": "markdown",
      "source": [
        "## Data Processing"
      ],
      "metadata": {
        "id": "QUD_MHq8B3_w"
      }
    },
    {
      "cell_type": "markdown",
      "source": [
        "This section provide functionalities for data processing."
      ],
      "metadata": {
        "id": "4bvNhdb-B-qY"
      }
    },
    {
      "cell_type": "markdown",
      "source": [
        "### Data Exploration"
      ],
      "metadata": {
        "id": "s5tSK1PO28Kb"
      }
    },
    {
      "cell_type": "markdown",
      "source": [
        "Explore the dataset by displaying the schema, the first few rows, and general statistics."
      ],
      "metadata": {
        "id": "tD_a0fdY_TLg"
      }
    },
    {
      "cell_type": "code",
      "source": [
        "# Show the schema of the dataset.\n",
        "df.printSchema()\n",
        "\n",
        "# Display the first 5 rows.\n",
        "df.show(5)\n",
        "\n",
        "# Display dataset summary.\n",
        "df.describe().show()"
      ],
      "metadata": {
        "id": "iHR-claW3ouz",
        "colab": {
          "base_uri": "https://localhost:8080/"
        },
        "outputId": "11ea1f8f-c3df-4734-e1e5-d7023a249fcc"
      },
      "execution_count": 7,
      "outputs": [
        {
          "output_type": "stream",
          "name": "stdout",
          "text": [
            "root\n",
            " |-- person_name: string (nullable = true)\n",
            " |-- user_name: string (nullable = true)\n",
            " |-- email: string (nullable = true)\n",
            " |-- personal_number: long (nullable = true)\n",
            " |-- birth_date: date (nullable = true)\n",
            " |-- address: string (nullable = true)\n",
            " |-- phone: string (nullable = true)\n",
            " |-- mac_address: string (nullable = true)\n",
            " |-- ip_address: string (nullable = true)\n",
            " |-- iban: string (nullable = true)\n",
            " |-- accessed_at: timestamp (nullable = true)\n",
            " |-- session_duration: integer (nullable = true)\n",
            " |-- download_speed: integer (nullable = true)\n",
            " |-- upload_speed: integer (nullable = true)\n",
            " |-- consumed_traffic: integer (nullable = true)\n",
            " |-- unique_id: string (nullable = true)\n",
            "\n",
            "+----------------+---------------+--------------------+---------------+----------+--------------------+------------+-----------------+--------------+--------------------+-------------------+----------------+--------------+------------+----------------+--------------------+\n",
            "|     person_name|      user_name|               email|personal_number|birth_date|             address|       phone|      mac_address|    ip_address|                iban|        accessed_at|session_duration|download_speed|upload_speed|consumed_traffic|           unique_id|\n",
            "+----------------+---------------+--------------------+---------------+----------+--------------------+------------+-----------------+--------------+--------------------+-------------------+----------------+--------------+------------+----------------+--------------------+\n",
            "|Nicolae Ardelean|nicolaeardelean|nicolaeardelean@e...|  4521024060408|2006-04-20|Aleea Ilona Diaco...|0231 294 589|8a:d6:c3:9c:55:d6| 209.103.26.16|RO72IFXF961985249...|2024-06-17 11:54:53|           22498|           864|           1|         1323602|14b73406-23a6-40c...|\n",
            "| Leordean Voinea| leordeanvoinea|leordeanvoinea@ka...|  3280511102316|1990-09-25|Bulevardul Pușcaș...|0246 188 980|1c:e8:17:cf:02:14| 80.249.54.162|RO29JFGP058084477...|2024-04-27 08:17:30|           17630|            26|         762|          289167|b04df802-9463-4df...|\n",
            "|Octavia Stănescu|octaviastănescu|octaviastănescu@e...|  1550818338298|1952-05-14|Aleea Stancu, Bus...|0786 528 770|52:08:21:3c:30:84|19.167.166.209|RO52CJRM429810428...|2023-12-21 17:46:06|           22103|           776|         412|         1812574|bfa41b7d-b5b7-40e...|\n",
            "|    Rebeca Preda|    rebecapreda|rebecapreda@gmail...|  8891124093752|2013-07-05|Aleea Tudor Nr. 8...|0750 581 917|2e:48:a3:00:1e:6d| 180.56.58.199|RO33CIFA830993437...|2024-05-31 20:12:21|           19286|           629|         208|            1416|372e5829-5ff2-4b1...|\n",
            "|     Ilona Marin|     ilonamarin| ilonamarin@email.ro|  6130324231550|1954-10-16|Aleea Ene Nr. 654...|0265 371 469|4a:07:d2:96:26:90|   23.28.26.88|RO87ZVGV931453691...|2024-03-20 09:04:33|           34366|           325|         427|           13820|0bd35712-5423-4c8...|\n",
            "+----------------+---------------+--------------------+---------------+----------+--------------------+------------+-----------------+--------------+--------------------+-------------------+----------------+--------------+------------+----------------+--------------------+\n",
            "only showing top 5 rows\n",
            "\n",
            "+-------+--------------+------------+--------------------+--------------------+--------------------+------------+-----------------+-------------+--------------------+------------------+------------------+------------------+-----------------+--------------------+\n",
            "|summary|   person_name|   user_name|               email|     personal_number|             address|       phone|      mac_address|   ip_address|                iban|  session_duration|    download_speed|      upload_speed| consumed_traffic|           unique_id|\n",
            "+-------+--------------+------------+--------------------+--------------------+--------------------+------------+-----------------+-------------+--------------------+------------------+------------------+------------------+-----------------+--------------------+\n",
            "|  count|        100561|      100561|              100561|              100561|              100561|      100561|           100561|       100561|              100561|            100561|            100561|            100561|           100561|              100561|\n",
            "|   mean|          NULL|        NULL|                NULL|4.983620943097225E12|                NULL|        NULL|             NULL|         NULL|                NULL|18023.480544147333|499.97049552013203| 400.3348017621145|999662.1036286433|                NULL|\n",
            "| stddev|          NULL|        NULL|                NULL|2.306374282413192...|                NULL|        NULL|             NULL|         NULL|                NULL|10394.093059755025| 289.2083115485737|231.54859186944168|577070.6646117973|                NULL|\n",
            "|    min|   Achim Aanei|  achimaanei|   achimaanei@141.ro|       1000102157865|Aleea Aanei Nr. 1...|021 000 3452|00:00:16:fb:3a:f3|  1.0.196.218|RO02AAFT871628242...|                 0|                 0|                 0|                2|000033a1-b8d6-4cc...|\n",
            "|    max|Ștefania Tudor|ștefanvoinea|ștefanvoinea@zzup.ro|       8991230251341|Strada Ștefania T...|0788 999 959|fc:ff:f8:a6:75:7e|99.99.187.114|RO98ZYOH241488212...|             36000|              1000|               800|          1999989|ffffc8ef-bbb0-4d8...|\n",
            "+-------+--------------+------------+--------------------+--------------------+--------------------+------------+-----------------+-------------+--------------------+------------------+------------------+------------------+-----------------+--------------------+\n",
            "\n"
          ]
        }
      ]
    },
    {
      "cell_type": "markdown",
      "source": [
        "### Data Cleaning"
      ],
      "metadata": {
        "id": "dfbguHWe32H5"
      }
    },
    {
      "cell_type": "markdown",
      "source": [
        "Handle missing values by replace with default values for *email* and *phone* columns."
      ],
      "metadata": {
        "id": "85aDDjHZANfr"
      }
    },
    {
      "cell_type": "code",
      "source": [
        "df = df.na.fill({\"email\": \"unknown@example.com\", \"phone\": \"000-000-0000\"})"
      ],
      "metadata": {
        "id": "vPmALSvp34w1"
      },
      "execution_count": 8,
      "outputs": []
    },
    {
      "cell_type": "markdown",
      "source": [
        "Remove duplicates by using the *unique_id* column, which should be a unique identifier."
      ],
      "metadata": {
        "id": "_UfSIa9TAXXm"
      }
    },
    {
      "cell_type": "code",
      "source": [
        "df = df.dropDuplicates(subset=[\"unique_id\"])"
      ],
      "metadata": {
        "id": "XjJldjo24GG7"
      },
      "execution_count": 9,
      "outputs": []
    },
    {
      "cell_type": "markdown",
      "source": [
        "Ensure that the *birth_date* and *session_duration* columns have the correct data types (DateType and IntegerType, respectively)."
      ],
      "metadata": {
        "id": "tdZyvzq2AqlU"
      }
    },
    {
      "cell_type": "code",
      "source": [
        "df = df.withColumn(\"birth_date\", col(\"birth_date\").cast(DateType()))\n",
        "df = df.withColumn(\n",
        "    \"session_duration\", col(\"session_duration\").cast(IntegerType()))"
      ],
      "metadata": {
        "id": "-HaK8ZWy4LMZ"
      },
      "execution_count": 10,
      "outputs": []
    },
    {
      "cell_type": "markdown",
      "source": [
        "### Data Filtering"
      ],
      "metadata": {
        "id": "c7IUT_mbCPBy"
      }
    },
    {
      "cell_type": "markdown",
      "source": [
        "Filter the dataset based on specific conditions, such as filtering for specific access dates and high data usage."
      ],
      "metadata": {
        "id": "1YRz3wIqA4BK"
      }
    },
    {
      "cell_type": "code",
      "source": [
        "# Filter by access date (accessed after a specific date).\n",
        "df_filtered = df.filter(to_date(df.accessed_at) > '2024-10-13')\n",
        "\n",
        "# Filter by consumed traffic (greater than 1000).\n",
        "df_filtered = df.filter(df.consumed_traffic > 1000)"
      ],
      "metadata": {
        "id": "ET8alqvb4QjU"
      },
      "execution_count": 11,
      "outputs": []
    },
    {
      "cell_type": "markdown",
      "source": [
        "### Grouping and Aggregation"
      ],
      "metadata": {
        "id": "33DGynO1CYri"
      }
    },
    {
      "cell_type": "markdown",
      "source": [
        "Group data by *person_name* and perform aggregation, calculating the average session duration and total consumed traffic."
      ],
      "metadata": {
        "id": "icELStvSBRO0"
      }
    },
    {
      "cell_type": "code",
      "source": [
        "df_grouped = df.groupBy(\"person_name\").agg(\n",
        "    {\"session_duration\": \"avg\", \"consumed_traffic\": \"sum\"})\n",
        "df_grouped.show()"
      ],
      "metadata": {
        "colab": {
          "base_uri": "https://localhost:8080/"
        },
        "id": "uZ7ZXZLU4VbR",
        "outputId": "d872ab16-bc77-4f7c-f066-eb12acb1cb1e"
      },
      "execution_count": 12,
      "outputs": [
        {
          "output_type": "stream",
          "name": "stdout",
          "text": [
            "+-------------------+---------------------+---------------------+\n",
            "|        person_name|sum(consumed_traffic)|avg(session_duration)|\n",
            "+-------------------+---------------------+---------------------+\n",
            "|         Jana Marin|              6905197|   20729.571428571428|\n",
            "|       Flavia Marin|              3274078|              16704.0|\n",
            "|      Patricia Stan|               843562|              25485.0|\n",
            "|      Ludovica Toma|              1245476|              20400.0|\n",
            "|   Olimpian Cristea|              1531586|               4091.0|\n",
            "|     Betina Cristea|              2955150|   22036.333333333332|\n",
            "|Ruxandra Dumitrescu|              6463578|    21640.14285714286|\n",
            "|       Răzvan Suciu|              3203808|             15670.25|\n",
            "|   Ionuț Diaconescu|              5887630|             13111.75|\n",
            "|        Emil Nistor|              1924661|   19331.333333333332|\n",
            "|         Dana Marin|              5756578|              17521.5|\n",
            "|       Adelina Toma|              1637256|              33386.0|\n",
            "|       Simina Suciu|              4964226|              13924.0|\n",
            "|      Angel Eftimie|              7595601|              20653.0|\n",
            "|      Janina Nistor|              8809075|              14508.5|\n",
            "|     Casiana Ababei|                12655|              11914.0|\n",
            "|   Anișoara Cristea|              7343372|   16102.166666666666|\n",
            "|         Iosif Toma|              1520319|               5176.0|\n",
            "|          Stela Ene|              3721681|              18862.4|\n",
            "|      Ieremia Aanei|              1663891|              12587.5|\n",
            "+-------------------+---------------------+---------------------+\n",
            "only showing top 20 rows\n",
            "\n"
          ]
        }
      ]
    },
    {
      "cell_type": "markdown",
      "source": [
        "### Data Transformation"
      ],
      "metadata": {
        "id": "T9jP6pTFC-ES"
      }
    },
    {
      "cell_type": "markdown",
      "source": [
        "Create a new column *total_bandwidth* as the sum of download_speed and upload_speed, and another column for the *birth_year*."
      ],
      "metadata": {
        "id": "MwozpjZWDBnp"
      }
    },
    {
      "cell_type": "code",
      "source": [
        "# Calculate total bandwidth.\n",
        "df = df.withColumn(\n",
        "    \"total_bandwidth\", col(\"download_speed\") + col(\"upload_speed\"))\n",
        "\n",
        "# Extract birth year.\n",
        "df = df.withColumn(\"birth_year\", expr(\"year(birth_date)\"))"
      ],
      "metadata": {
        "id": "nIcrFfhf4fuF"
      },
      "execution_count": 13,
      "outputs": []
    },
    {
      "cell_type": "markdown",
      "source": [
        "### Data Segmentation"
      ],
      "metadata": {
        "id": "tCa370C_DlYQ"
      }
    },
    {
      "cell_type": "markdown",
      "source": [
        "Categorize users based on their session activity levels (active, moderate, less active) using *session_duration*."
      ],
      "metadata": {
        "id": "bOF6eOgrDpsG"
      }
    },
    {
      "cell_type": "code",
      "source": [
        "df = df.withColumn(\"activity_level\",\n",
        "                   when(col(\"session_duration\") > 120, \"active\")\n",
        "                   .when(col(\"session_duration\").between(30, 120), \"moderate\")\n",
        "                   .otherwise(\"less_active\"))"
      ],
      "metadata": {
        "id": "XAcIHJZV4hMl"
      },
      "execution_count": 14,
      "outputs": []
    },
    {
      "cell_type": "markdown",
      "source": [
        "### Data Anonymization"
      ],
      "metadata": {
        "id": "xoASUqY4DkrM"
      }
    },
    {
      "cell_type": "markdown",
      "source": [
        "To protect personal data, mask *email* addresses by partially obscuring them."
      ],
      "metadata": {
        "id": "gxCxPeWuD43U"
      }
    },
    {
      "cell_type": "code",
      "source": [
        "df = df.withColumn(\"masked_email\",\n",
        "                   regexp_replace(\"email\", \"(\\\\w{3})\\\\w+@(\\\\w+)\", \"$1***@$2\"))"
      ],
      "metadata": {
        "id": "WLCPxA0c4jVG"
      },
      "execution_count": 15,
      "outputs": []
    },
    {
      "cell_type": "markdown",
      "source": [
        "## Data Analysis"
      ],
      "metadata": {
        "id": "OzDJI0uBEF2j"
      }
    },
    {
      "cell_type": "markdown",
      "source": [
        "This section provide functionalities for data analysis."
      ],
      "metadata": {
        "id": "Mo3dd1uYELXp"
      }
    },
    {
      "cell_type": "markdown",
      "source": [
        "### Session Analysis"
      ],
      "metadata": {
        "id": "w0IiKkvmEQhh"
      }
    },
    {
      "cell_type": "markdown",
      "source": [
        "Analyze session data, finding the average session duration and the longest session."
      ],
      "metadata": {
        "id": "tgEMSkYKEcLm"
      }
    },
    {
      "cell_type": "code",
      "source": [
        "# Average session duration.\n",
        "df.agg({\"session_duration\": \"avg\"}).show()\n",
        "\n",
        "# Maximum session duration.\n",
        "df.agg({\"session_duration\": \"max\"}).show()"
      ],
      "metadata": {
        "colab": {
          "base_uri": "https://localhost:8080/"
        },
        "id": "HoqmDmSn4tDY",
        "outputId": "36ed1ad4-c313-4b0b-e1a1-ec12e70266b4"
      },
      "execution_count": 16,
      "outputs": [
        {
          "output_type": "stream",
          "name": "stdout",
          "text": [
            "+---------------------+\n",
            "|avg(session_duration)|\n",
            "+---------------------+\n",
            "|   18023.480544147333|\n",
            "+---------------------+\n",
            "\n",
            "+---------------------+\n",
            "|max(session_duration)|\n",
            "+---------------------+\n",
            "|                36000|\n",
            "+---------------------+\n",
            "\n"
          ]
        }
      ]
    },
    {
      "cell_type": "markdown",
      "source": [
        "### Network Analysis"
      ],
      "metadata": {
        "id": "g5pVb6PmEko6"
      }
    },
    {
      "cell_type": "markdown",
      "source": [
        "Analyze data traffic usage based on *ip_address*, identifying devices with the highest data consumption."
      ],
      "metadata": {
        "id": "tnAKbkhqEm7h"
      }
    },
    {
      "cell_type": "code",
      "source": [
        "df_ip_activity = df.groupBy(\"ip_address\").agg(\n",
        "    {\"consumed_traffic\": \"sum\"}).orderBy(\n",
        "        \"sum(consumed_traffic)\", ascending=False)\n",
        "df_ip_activity.show()"
      ],
      "metadata": {
        "colab": {
          "base_uri": "https://localhost:8080/"
        },
        "id": "edHveF0B6EM-",
        "outputId": "19850147-b487-4f29-ecef-70926a270d00"
      },
      "execution_count": 17,
      "outputs": [
        {
          "output_type": "stream",
          "name": "stdout",
          "text": [
            "+---------------+---------------------+\n",
            "|     ip_address|sum(consumed_traffic)|\n",
            "+---------------+---------------------+\n",
            "|   172.248.99.1|              1999989|\n",
            "| 109.95.154.240|              1999961|\n",
            "|  30.177.153.54|              1999954|\n",
            "|  205.19.105.29|              1999934|\n",
            "|  135.140.77.39|              1999910|\n",
            "|   12.80.170.77|              1999902|\n",
            "|   212.4.71.161|              1999881|\n",
            "|115.193.211.245|              1999848|\n",
            "| 147.103.125.27|              1999844|\n",
            "|   42.27.69.130|              1999842|\n",
            "|  161.49.80.180|              1999834|\n",
            "| 178.33.213.243|              1999829|\n",
            "| 11.117.248.174|              1999826|\n",
            "|    4.215.6.241|              1999819|\n",
            "|134.138.144.132|              1999812|\n",
            "| 58.145.216.149|              1999797|\n",
            "|   50.167.23.13|              1999781|\n",
            "| 67.117.160.251|              1999772|\n",
            "|   84.192.46.64|              1999772|\n",
            "| 80.144.178.236|              1999761|\n",
            "+---------------+---------------------+\n",
            "only showing top 20 rows\n",
            "\n"
          ]
        }
      ]
    },
    {
      "cell_type": "markdown",
      "source": [
        "### Time Series Analysis"
      ],
      "metadata": {
        "id": "r3NoxnfRE0EC"
      }
    },
    {
      "cell_type": "markdown",
      "source": [
        "Analyze user activity over time by extracting date information from *accessed_at* and grouping the data by day."
      ],
      "metadata": {
        "id": "KLcQ3ttfE6lP"
      }
    },
    {
      "cell_type": "code",
      "source": [
        "df_time = df.withColumn(\"access_date\",\n",
        "                        to_date(\"accessed_at\")).groupBy(\"access_date\").count()\n",
        "df_time.show()"
      ],
      "metadata": {
        "colab": {
          "base_uri": "https://localhost:8080/"
        },
        "id": "rWg6JCrp6Hhw",
        "outputId": "d5b765e8-061f-4141-a0ed-94638e50f403"
      },
      "execution_count": 18,
      "outputs": [
        {
          "output_type": "stream",
          "name": "stdout",
          "text": [
            "+-----------+-----+\n",
            "|access_date|count|\n",
            "+-----------+-----+\n",
            "| 2024-06-12|  299|\n",
            "| 2024-06-04|  276|\n",
            "| 2024-02-05|  324|\n",
            "| 2023-11-08|  260|\n",
            "| 2024-08-27|  298|\n",
            "| 2024-05-30|  277|\n",
            "| 2023-11-22|  284|\n",
            "| 2024-05-25|  229|\n",
            "| 2023-09-19|  289|\n",
            "| 2024-01-07|  285|\n",
            "| 2023-12-10|  287|\n",
            "| 2023-11-29|  246|\n",
            "| 2024-08-30|  284|\n",
            "| 2024-04-20|  295|\n",
            "| 2024-07-08|  287|\n",
            "| 2024-01-11|  263|\n",
            "| 2023-09-27|  293|\n",
            "| 2024-09-10|  285|\n",
            "| 2023-11-25|  305|\n",
            "| 2024-08-05|  310|\n",
            "+-----------+-----+\n",
            "only showing top 20 rows\n",
            "\n"
          ]
        }
      ]
    },
    {
      "cell_type": "markdown",
      "source": [
        "## Export Data"
      ],
      "metadata": {
        "id": "HRYwUMJDFPNL"
      }
    },
    {
      "cell_type": "markdown",
      "source": [
        "Export the processed DataFrame back to a CSV file."
      ],
      "metadata": {
        "id": "-dSt9nWiFZ0a"
      }
    },
    {
      "cell_type": "code",
      "source": [
        "df.write.csv(\"processed_data_2024-10-15.csv\", header=True)"
      ],
      "metadata": {
        "id": "VGYdO0Kd6SKc"
      },
      "execution_count": 19,
      "outputs": []
    }
  ]
}